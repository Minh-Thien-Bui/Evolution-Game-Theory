{
 "cells": [
  {
   "cell_type": "code",
   "execution_count": 25,
   "id": "ba95cc4f",
   "metadata": {},
   "outputs": [],
   "source": [
    "import pandas as pd\n",
    "from random import randint"
   ]
  },
  {
   "cell_type": "code",
   "execution_count": 26,
   "id": "9ce8c22c",
   "metadata": {},
   "outputs": [],
   "source": [
    "class Bird:\n",
    "    def __init__(self, species):\n",
    "        self.__score = 0\n",
    "        self.__games = 0\n",
    "        \n",
    "        self.setSpecies(species)\n",
    "        self.setStrat()\n",
    "\n",
    "    def getSpecies(self):\n",
    "        return self.__species\n",
    "    \n",
    "    def getStrat(self):\n",
    "        return self.__strat\n",
    "    \n",
    "    def getScore(self):\n",
    "        return self.__score\n",
    "    \n",
    "    def getGames(self):\n",
    "        return self.__games\n",
    "\n",
    "    def setSpecies(self, species):\n",
    "        self.__species = species\n",
    "        \n",
    "    def setStrat(self):\n",
    "        if self.getSpecies() == 'Dove':\n",
    "            self.__strat = 0\n",
    "            \n",
    "        elif self.getSpecies() == 'Hawk':\n",
    "            self.__strat = 1\n",
    "            \n",
    "        else:\n",
    "            self.__strat = randint(0, 1)\n",
    "        \n",
    "    def incScore(self, points):\n",
    "        self.__score += points\n",
    "        \n",
    "    def incGames(self):\n",
    "        self.__games += 1"
   ]
  },
  {
   "cell_type": "code",
   "execution_count": 27,
   "id": "c1caf3af",
   "metadata": {},
   "outputs": [],
   "source": [
    "def Fight(player, opp):\n",
    "    if player.getSpecies() != 'Hawk' and player.getSpecies() != 'Dove':\n",
    "        player.setStrat()\n",
    "        \n",
    "        if opp.getSpecies() != 'Hawk' and opp.getSpecies() != 'Dove':\n",
    "            if player.getStrat() == 0:\n",
    "                opp.setSpecies('Hawk')\n",
    "                \n",
    "            else:\n",
    "                opp.setSpecies('Dove')\n",
    "                \n",
    "            opp.setStrat()\n",
    "    \n",
    "    if player.getStrat() == 0 and opp.getStrat() == 0:\n",
    "        player.incScore(-10)\n",
    "        chance = randint(0, 1)\n",
    "\n",
    "        if chance == 1:\n",
    "            player.incScore(50)\n",
    "            \n",
    "    elif player.getStrat() == 1:\n",
    "        if opp.getStrat() == 0:\n",
    "            player.incScore(50)\n",
    "        \n",
    "        else:\n",
    "            battle = randint(0, 1)\n",
    "\n",
    "            if battle == 1:\n",
    "                player.incScore(50)\n",
    "            \n",
    "            else:\n",
    "                player.incScore(-100)\n",
    "            \n",
    "    player.incGames()"
   ]
  },
  {
   "cell_type": "code",
   "execution_count": 28,
   "id": "e4a4e335",
   "metadata": {},
   "outputs": [
    {
     "data": {
      "text/plain": [
       "{'Hawk': {'Hawk': -27.16, 'Dove': 50.0, 'Bourgeois': 13.085},\n",
       " 'Dove': {'Hawk': 0.0, 'Dove': 14.65, 'Bourgeois': 7.44},\n",
       " 'Bourgeois': {'Hawk': -12.625, 'Dove': 32.288, 'Bourgeois': 25.275}}"
      ]
     },
     "execution_count": 28,
     "metadata": {},
     "output_type": "execute_result"
    }
   ],
   "source": [
    "birdSpecies = ['Hawk', 'Dove', 'Bourgeois']\n",
    "warbirds = {}\n",
    "\n",
    "for bird in birdSpecies:\n",
    "    opponents = {}\n",
    "    \n",
    "    for opp in birdSpecies:\n",
    "        player = Bird(bird)\n",
    "        \n",
    "        for i in range(10000):\n",
    "            enemy = Bird(opp)\n",
    "            Fight(player, enemy)\n",
    "        \n",
    "        avg = player.getScore() / player.getGames()\n",
    "        opponents[opp] = avg\n",
    "\n",
    "    warbirds[bird] = opponents\n",
    "    \n",
    "warbirds"
   ]
  },
  {
   "cell_type": "code",
   "execution_count": 29,
   "id": "2fefd9be",
   "metadata": {},
   "outputs": [
    {
     "data": {
      "text/html": [
       "<div>\n",
       "<style scoped>\n",
       "    .dataframe tbody tr th:only-of-type {\n",
       "        vertical-align: middle;\n",
       "    }\n",
       "\n",
       "    .dataframe tbody tr th {\n",
       "        vertical-align: top;\n",
       "    }\n",
       "\n",
       "    .dataframe thead th {\n",
       "        text-align: right;\n",
       "    }\n",
       "</style>\n",
       "<table border=\"1\" class=\"dataframe\">\n",
       "  <thead>\n",
       "    <tr style=\"text-align: right;\">\n",
       "      <th></th>\n",
       "      <th>Hawk</th>\n",
       "      <th>Dove</th>\n",
       "      <th>Bourgeois</th>\n",
       "    </tr>\n",
       "  </thead>\n",
       "  <tbody>\n",
       "    <tr>\n",
       "      <th>Hawk</th>\n",
       "      <td>-27.160</td>\n",
       "      <td>50.000</td>\n",
       "      <td>13.085</td>\n",
       "    </tr>\n",
       "    <tr>\n",
       "      <th>Dove</th>\n",
       "      <td>0.000</td>\n",
       "      <td>14.650</td>\n",
       "      <td>7.440</td>\n",
       "    </tr>\n",
       "    <tr>\n",
       "      <th>Bourgeois</th>\n",
       "      <td>-12.625</td>\n",
       "      <td>32.288</td>\n",
       "      <td>25.275</td>\n",
       "    </tr>\n",
       "  </tbody>\n",
       "</table>\n",
       "</div>"
      ],
      "text/plain": [
       "             Hawk    Dove  Bourgeois\n",
       "Hawk      -27.160  50.000     13.085\n",
       "Dove        0.000  14.650      7.440\n",
       "Bourgeois -12.625  32.288     25.275"
      ]
     },
     "execution_count": 29,
     "metadata": {},
     "output_type": "execute_result"
    }
   ],
   "source": [
    "scoreTable = pd.DataFrame(columns = birdSpecies)\n",
    "\n",
    "for bird in warbirds:\n",
    "    scoreTable.loc[bird] = warbirds[bird].values()\n",
    "\n",
    "scoreTable"
   ]
  },
  {
   "cell_type": "code",
   "execution_count": null,
   "id": "ce71b816",
   "metadata": {},
   "outputs": [],
   "source": []
  }
 ],
 "metadata": {
  "kernelspec": {
   "display_name": "Python 3",
   "language": "python",
   "name": "python3"
  },
  "language_info": {
   "codemirror_mode": {
    "name": "ipython",
    "version": 3
   },
   "file_extension": ".py",
   "mimetype": "text/x-python",
   "name": "python",
   "nbconvert_exporter": "python",
   "pygments_lexer": "ipython3",
   "version": "3.8.8"
  }
 },
 "nbformat": 4,
 "nbformat_minor": 5
}
