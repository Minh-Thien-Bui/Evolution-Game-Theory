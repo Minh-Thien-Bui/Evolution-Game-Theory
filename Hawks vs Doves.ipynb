{
 "cells": [
  {
   "cell_type": "code",
   "execution_count": 45,
   "id": "ba95cc4f",
   "metadata": {},
   "outputs": [],
   "source": [
    "import pandas as pd\n",
    "from random import randint\n",
    "from random import uniform\n",
    "from sympy.solvers import solve\n",
    "from sympy import Symbol"
   ]
  },
  {
   "cell_type": "code",
   "execution_count": 46,
   "id": "9ce8c22c",
   "metadata": {},
   "outputs": [],
   "source": [
    "class Bird:\n",
    "    def __init__(self, species):\n",
    "        self.__score = 0\n",
    "        self.__games = 0\n",
    "        \n",
    "        self.setSpecies(species)\n",
    "        self.setStrat()\n",
    "\n",
    "    def getSpecies(self):\n",
    "        return self.__species\n",
    "    \n",
    "    def getStrat(self):\n",
    "        return self.__strat\n",
    "    \n",
    "    def getScore(self):\n",
    "        return self.__score\n",
    "    \n",
    "    def getGames(self):\n",
    "        return self.__games\n",
    "\n",
    "    def setSpecies(self, species):\n",
    "        self.__species = species\n",
    "        \n",
    "    def setStrat(self):\n",
    "        if self.getSpecies() == 'Dove':\n",
    "            self.__strat = 0\n",
    "            \n",
    "        elif self.getSpecies() == 'Hawk':\n",
    "            self.__strat = 1\n",
    "            \n",
    "        else:\n",
    "            self.__strat = randint(0, 1)\n",
    "        \n",
    "    def incScore(self, points):\n",
    "        self.__score += points\n",
    "        \n",
    "    def incGames(self):\n",
    "        self.__games += 1"
   ]
  },
  {
   "cell_type": "code",
   "execution_count": 47,
   "id": "c1caf3af",
   "metadata": {},
   "outputs": [],
   "source": [
    "def Fight(player, opp):\n",
    "    if player.getSpecies() != 'Hawk' and player.getSpecies() != 'Dove':\n",
    "        player.setStrat()\n",
    "        \n",
    "        if opp.getSpecies() != 'Hawk' and opp.getSpecies() != 'Dove':\n",
    "            if player.getStrat() == 0:\n",
    "                opp.setSpecies('Hawk')\n",
    "                \n",
    "            else:\n",
    "                opp.setSpecies('Dove')\n",
    "                \n",
    "            opp.setStrat()\n",
    "    \n",
    "    if player.getStrat() == 0 and opp.getStrat() == 0:\n",
    "        player.incScore(-10)\n",
    "        chance = randint(0, 1)\n",
    "\n",
    "        if chance == 1:\n",
    "            player.incScore(50)\n",
    "            \n",
    "    elif player.getStrat() == 1:\n",
    "        if opp.getStrat() == 0:\n",
    "            player.incScore(50)\n",
    "        \n",
    "        else:\n",
    "            battle = randint(0, 1)\n",
    "\n",
    "            if battle == 1:\n",
    "                player.incScore(50)\n",
    "            \n",
    "            else:\n",
    "                player.incScore(-100)\n",
    "            \n",
    "    player.incGames()"
   ]
  },
  {
   "cell_type": "markdown",
   "id": "561718b0",
   "metadata": {},
   "source": [
    "## Expectation Table"
   ]
  },
  {
   "cell_type": "code",
   "execution_count": 48,
   "id": "e4a4e335",
   "metadata": {},
   "outputs": [
    {
     "data": {
      "text/plain": [
       "{'Hawk': {'Hawk': -24.883, 'Dove': 50.0, 'Bourgeois': 12.14},\n",
       " 'Dove': {'Hawk': 0.0, 'Dove': 15.104, 'Bourgeois': 7.3261},\n",
       " 'Bourgeois': {'Hawk': -12.4295, 'Dove': 32.5319, 'Bourgeois': 25.156}}"
      ]
     },
     "execution_count": 48,
     "metadata": {},
     "output_type": "execute_result"
    }
   ],
   "source": [
    "birdSpecies = ['Hawk', 'Dove', 'Bourgeois']\n",
    "warbirds = {}\n",
    "\n",
    "for flyer in birdSpecies:\n",
    "    opponents = {}\n",
    "    \n",
    "    for opp in birdSpecies:\n",
    "        player = Bird(flyer)\n",
    "        \n",
    "        for i in range(100000):\n",
    "            enemy = Bird(opp)\n",
    "            Fight(player, enemy)\n",
    "        \n",
    "        avg = player.getScore() / player.getGames()\n",
    "        opponents[opp] = avg\n",
    "\n",
    "    warbirds[flyer] = opponents\n",
    "    \n",
    "warbirds"
   ]
  },
  {
   "cell_type": "code",
   "execution_count": 49,
   "id": "2fefd9be",
   "metadata": {},
   "outputs": [
    {
     "data": {
      "text/html": [
       "<div>\n",
       "<style scoped>\n",
       "    .dataframe tbody tr th:only-of-type {\n",
       "        vertical-align: middle;\n",
       "    }\n",
       "\n",
       "    .dataframe tbody tr th {\n",
       "        vertical-align: top;\n",
       "    }\n",
       "\n",
       "    .dataframe thead th {\n",
       "        text-align: right;\n",
       "    }\n",
       "</style>\n",
       "<table border=\"1\" class=\"dataframe\">\n",
       "  <thead>\n",
       "    <tr style=\"text-align: right;\">\n",
       "      <th></th>\n",
       "      <th>Hawk</th>\n",
       "      <th>Dove</th>\n",
       "      <th>Bourgeois</th>\n",
       "    </tr>\n",
       "  </thead>\n",
       "  <tbody>\n",
       "    <tr>\n",
       "      <th>Hawk</th>\n",
       "      <td>-24.8830</td>\n",
       "      <td>50.0000</td>\n",
       "      <td>12.1400</td>\n",
       "    </tr>\n",
       "    <tr>\n",
       "      <th>Dove</th>\n",
       "      <td>0.0000</td>\n",
       "      <td>15.1040</td>\n",
       "      <td>7.3261</td>\n",
       "    </tr>\n",
       "    <tr>\n",
       "      <th>Bourgeois</th>\n",
       "      <td>-12.4295</td>\n",
       "      <td>32.5319</td>\n",
       "      <td>25.1560</td>\n",
       "    </tr>\n",
       "  </tbody>\n",
       "</table>\n",
       "</div>"
      ],
      "text/plain": [
       "              Hawk     Dove  Bourgeois\n",
       "Hawk      -24.8830  50.0000    12.1400\n",
       "Dove        0.0000  15.1040     7.3261\n",
       "Bourgeois -12.4295  32.5319    25.1560"
      ]
     },
     "execution_count": 49,
     "metadata": {},
     "output_type": "execute_result"
    }
   ],
   "source": [
    "scoreTable = pd.DataFrame(columns = birdSpecies)\n",
    "\n",
    "for bird in warbirds:\n",
    "    scoreTable.loc[bird] = warbirds[bird].values()\n",
    "\n",
    "scoreTable"
   ]
  },
  {
   "cell_type": "markdown",
   "id": "f77c57b2",
   "metadata": {},
   "source": [
    "## Stable Population"
   ]
  },
  {
   "cell_type": "code",
   "execution_count": 50,
   "id": "32c2ee28",
   "metadata": {},
   "outputs": [
    {
     "data": {
      "text/latex": [
       "$\\displaystyle \\frac{2}{3}$"
      ],
      "text/plain": [
       "2/3"
      ]
     },
     "execution_count": 50,
     "metadata": {},
     "output_type": "execute_result"
    }
   ],
   "source": [
    "hawkScore = int(round(scoreTable.Hawk[0]))\n",
    "doveScore = int(scoreTable.Dove[0])\n",
    "\n",
    "P = Symbol('P')\n",
    "expr = hawkScore * P + doveScore * (1 - P)\n",
    "\n",
    "sol = solve(expr)\n",
    "sol[0]"
   ]
  },
  {
   "cell_type": "code",
   "execution_count": 51,
   "id": "5f2028a3",
   "metadata": {},
   "outputs": [
    {
     "data": {
      "text/plain": [
       "{'Hawk': 0.0365, 'Dove': 4.9977}"
      ]
     },
     "execution_count": 51,
     "metadata": {},
     "output_type": "execute_result"
    }
   ],
   "source": [
    "birdSpecies = ['Hawk', 'Dove']\n",
    "warbirds = {}\n",
    "\n",
    "for flyer in birdSpecies:\n",
    "    player = Bird(flyer)\n",
    "    \n",
    "    for i in range(100000):\n",
    "        prob = float(sol[0])\n",
    "        spawn = uniform(0, 1)\n",
    "        \n",
    "        if spawn <= prob:\n",
    "            enemy = Bird(birdSpecies[0])\n",
    "            \n",
    "        else:\n",
    "            enemy = Bird(birdSpecies[1])\n",
    "            \n",
    "        Fight(player, enemy)\n",
    "\n",
    "    avg = player.getScore() / player.getGames()\n",
    "    warbirds[flyer] = avg\n",
    "    \n",
    "warbirds"
   ]
  },
  {
   "cell_type": "code",
   "execution_count": null,
   "id": "39f456cc",
   "metadata": {},
   "outputs": [],
   "source": []
  }
 ],
 "metadata": {
  "kernelspec": {
   "display_name": "Python 3",
   "language": "python",
   "name": "python3"
  },
  "language_info": {
   "codemirror_mode": {
    "name": "ipython",
    "version": 3
   },
   "file_extension": ".py",
   "mimetype": "text/x-python",
   "name": "python",
   "nbconvert_exporter": "python",
   "pygments_lexer": "ipython3",
   "version": "3.8.8"
  }
 },
 "nbformat": 4,
 "nbformat_minor": 5
}
