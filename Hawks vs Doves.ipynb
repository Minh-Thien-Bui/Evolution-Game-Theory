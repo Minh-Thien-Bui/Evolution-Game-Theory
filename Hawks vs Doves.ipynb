{
 "cells": [
  {
   "cell_type": "code",
   "execution_count": 81,
   "id": "ba95cc4f",
   "metadata": {},
   "outputs": [],
   "source": [
    "import pandas as pd\n",
    "from random import randint"
   ]
  },
  {
   "cell_type": "code",
   "execution_count": 82,
   "id": "9ce8c22c",
   "metadata": {},
   "outputs": [],
   "source": [
    "class Bird:\n",
    "    def __init__(self, species):\n",
    "        self.__score = 0\n",
    "        self.__games = 0\n",
    "        \n",
    "        self.setSpecies(species)\n",
    "        self.setStrat()\n",
    "\n",
    "    def getSpecies(self):\n",
    "        return self.__species\n",
    "    \n",
    "    def getStrat(self):\n",
    "        return self.__strat\n",
    "    \n",
    "    def getScore(self):\n",
    "        return self.__score\n",
    "    \n",
    "    def getGames(self):\n",
    "        return self.__games\n",
    "\n",
    "    def setSpecies(self, species):\n",
    "        self.__species = species\n",
    "        \n",
    "    def setStrat(self):\n",
    "        if self.getSpecies() == 'Dove':\n",
    "            self.__strat = 0\n",
    "            \n",
    "        elif self.getSpecies() == 'Hawk':\n",
    "            self.__strat = 1\n",
    "            \n",
    "        else:\n",
    "            self.__strat = randint(0, 1)\n",
    "        \n",
    "    def incScore(self, points):\n",
    "        self.__score += points\n",
    "        \n",
    "    def incGames(self):\n",
    "        self.__games += 1"
   ]
  },
  {
   "cell_type": "code",
   "execution_count": 83,
   "id": "c1caf3af",
   "metadata": {},
   "outputs": [],
   "source": [
    "def Fight(player, opp):\n",
    "    if player.getSpecies() != 'Hawk' and player.getSpecies() != 'Dove':\n",
    "        player.setStrat()\n",
    "        \n",
    "        if opp.getSpecies() != 'Hawk' and opp.getSpecies() != 'Dove':\n",
    "            if player.getStrat() == 0:\n",
    "                opp.setSpecies('Hawk')\n",
    "                \n",
    "            else:\n",
    "                opp.setSpecies('Dove')\n",
    "                \n",
    "            opp.setStrat()\n",
    "    \n",
    "    if player.getStrat() == 0 and opp.getStrat() == 0:\n",
    "        player.incScore(-10)\n",
    "        chance = randint(0, 1)\n",
    "\n",
    "        if chance == 1:\n",
    "            player.incScore(50)\n",
    "            \n",
    "    elif player.getStrat() == 1:\n",
    "        if opp.getStrat() == 0:\n",
    "            player.incScore(50)\n",
    "        \n",
    "        else:\n",
    "            battle = randint(0, 1)\n",
    "\n",
    "            if battle == 1:\n",
    "                player.incScore(50)\n",
    "            \n",
    "            else:\n",
    "                player.incScore(-100)\n",
    "            \n",
    "    player.incGames()"
   ]
  },
  {
   "cell_type": "code",
   "execution_count": 84,
   "id": "e4a4e335",
   "metadata": {},
   "outputs": [
    {
     "data": {
      "text/plain": [
       "{'Hawk': {'Hawk': -24.955, 'Dove': 50.0, 'Bourgeois': 12.395},\n",
       " 'Dove': {'Hawk': 0.0, 'Dove': 15.035, 'Bourgeois': 7.474},\n",
       " 'Bourgeois': {'Hawk': -12.5, 'Dove': 32.465, 'Bourgeois': 25.06}}"
      ]
     },
     "execution_count": 84,
     "metadata": {},
     "output_type": "execute_result"
    }
   ],
   "source": [
    "birdSpecies = ['Hawk', 'Dove', 'Bourgeois']\n",
    "warbirds = {}\n",
    "\n",
    "for bird in birdSpecies:\n",
    "    opponents = {}\n",
    "    \n",
    "    for opp in birdSpecies:\n",
    "        player = Bird(bird)\n",
    "        \n",
    "        for i in range(10000):\n",
    "            enemy = Bird(opp)\n",
    "            Fight(player, enemy)\n",
    "        \n",
    "        avg = player.getScore() / player.getGames()\n",
    "        opponents[opp] = avg\n",
    "\n",
    "    warbirds[bird] = opponents\n",
    "    \n",
    "warbirds"
   ]
  },
  {
   "cell_type": "code",
   "execution_count": 85,
   "id": "5a353aa6",
   "metadata": {},
   "outputs": [
    {
     "data": {
      "text/html": [
       "<div>\n",
       "<style scoped>\n",
       "    .dataframe tbody tr th:only-of-type {\n",
       "        vertical-align: middle;\n",
       "    }\n",
       "\n",
       "    .dataframe tbody tr th {\n",
       "        vertical-align: top;\n",
       "    }\n",
       "\n",
       "    .dataframe thead th {\n",
       "        text-align: right;\n",
       "    }\n",
       "</style>\n",
       "<table border=\"1\" class=\"dataframe\">\n",
       "  <thead>\n",
       "    <tr style=\"text-align: right;\">\n",
       "      <th></th>\n",
       "      <th>Species</th>\n",
       "      <th>Hawk</th>\n",
       "      <th>Dove</th>\n",
       "      <th>Bourgeois</th>\n",
       "    </tr>\n",
       "  </thead>\n",
       "  <tbody>\n",
       "    <tr>\n",
       "      <th>0</th>\n",
       "      <td>Hawk</td>\n",
       "      <td>-24.955</td>\n",
       "      <td>50.000</td>\n",
       "      <td>12.395</td>\n",
       "    </tr>\n",
       "    <tr>\n",
       "      <th>1</th>\n",
       "      <td>Dove</td>\n",
       "      <td>0.000</td>\n",
       "      <td>15.035</td>\n",
       "      <td>7.474</td>\n",
       "    </tr>\n",
       "    <tr>\n",
       "      <th>2</th>\n",
       "      <td>Bourgeois</td>\n",
       "      <td>-12.500</td>\n",
       "      <td>32.465</td>\n",
       "      <td>25.060</td>\n",
       "    </tr>\n",
       "  </tbody>\n",
       "</table>\n",
       "</div>"
      ],
      "text/plain": [
       "     Species    Hawk    Dove  Bourgeois\n",
       "0       Hawk -24.955  50.000     12.395\n",
       "1       Dove   0.000  15.035      7.474\n",
       "2  Bourgeois -12.500  32.465     25.060"
      ]
     },
     "execution_count": 85,
     "metadata": {},
     "output_type": "execute_result"
    }
   ],
   "source": [
    "scoreTable = pd.DataFrame()\n",
    "birdScores = {}\n",
    "\n",
    "for bird in warbirds:\n",
    "    birdScores[bird] = []\n",
    "    \n",
    "    for opp in warbirds:\n",
    "        birdScores[bird].append(warbirds[opp][bird])\n",
    "\n",
    "scoreTable['Species'] = birdSpecies\n",
    "scoreTable['Hawk'] = birdScores['Hawk']\n",
    "scoreTable['Dove'] = birdScores['Dove']\n",
    "scoreTable['Bourgeois'] = birdScores['Bourgeois']\n",
    "\n",
    "scoreTable"
   ]
  },
  {
   "cell_type": "code",
   "execution_count": null,
   "id": "349c6c96",
   "metadata": {},
   "outputs": [],
   "source": []
  }
 ],
 "metadata": {
  "kernelspec": {
   "display_name": "Python 3",
   "language": "python",
   "name": "python3"
  },
  "language_info": {
   "codemirror_mode": {
    "name": "ipython",
    "version": 3
   },
   "file_extension": ".py",
   "mimetype": "text/x-python",
   "name": "python",
   "nbconvert_exporter": "python",
   "pygments_lexer": "ipython3",
   "version": "3.8.8"
  }
 },
 "nbformat": 4,
 "nbformat_minor": 5
}
